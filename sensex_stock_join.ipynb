{
 "cells": [
  {
   "cell_type": "code",
   "execution_count": 2,
   "metadata": {},
   "outputs": [],
   "source": [
    "from glob import glob\n"
   ]
  },
  {
   "cell_type": "code",
   "execution_count": 27,
   "metadata": {},
   "outputs": [
    {
     "name": "stdout",
     "output_type": "stream",
     "text": [
      "['15890.80,16186.68,15888.28,16167.13', '16210.37,16210.37,15952.54,16008.34', '15868.96,16179.56,15849.57,16123.46', '16555.93,16718.11,16430.61,16483.45', '16493.98,16888.84,16428.66,16846.83']\n"
     ]
    }
   ],
   "source": [
    "sensex = []\n",
    "with open('SENSEX.csv','r') as fil:\n",
    "    line = fil.readline() # header line\n",
    "    line = fil.readline()\n",
    "    while(len(line) > 0):\n",
    "        lin = line.split(',',1)[1]\n",
    "        sensex.append(lin[:-2])\n",
    "        line = fil.readline()\n",
    "print(sensex[:5])"
   ]
  },
  {
   "cell_type": "code",
   "execution_count": 31,
   "metadata": {},
   "outputs": [
    {
     "name": "stdout",
     "output_type": "stream",
     "text": [
      "['Dataset\\\\500010.txt', 'Dataset\\\\500124.txt', 'Dataset\\\\500180.txt', 'Dataset\\\\500182.txt', 'Dataset\\\\500209.txt', 'Dataset\\\\500312.txt', 'Dataset\\\\500510.txt', 'Dataset\\\\500520.txt', 'Dataset\\\\500696.txt', 'Dataset\\\\500820.txt', 'Dataset\\\\500875.txt', 'Dataset\\\\532174.txt', 'Dataset\\\\532187.txt', 'Dataset\\\\532215.txt', 'Dataset\\\\532454.txt']\n"
     ]
    }
   ],
   "source": [
    "fil_names = glob('Dataset/*.txt')\n",
    "print(fil_names[:-5])"
   ]
  },
  {
   "cell_type": "code",
   "execution_count": 41,
   "metadata": {},
   "outputs": [],
   "source": [
    "for fil_name in fil_names:\n",
    "    with open(fil_name,'r') as fil:\n",
    "        index_and_price = zip(fil,sensex)\n",
    "        new_data = list(map(lambda x: x[0][:-2]+x[1],index_and_price))\n",
    "    with open(fil_name,'w') as fil:\n",
    "        for line in new_data:\n",
    "            fil.write(line+'\\n')\n",
    "    "
   ]
  }
 ],
 "metadata": {
  "kernelspec": {
   "display_name": "Python 3",
   "language": "python",
   "name": "python3"
  },
  "language_info": {
   "codemirror_mode": {
    "name": "ipython",
    "version": 3
   },
   "file_extension": ".py",
   "mimetype": "text/x-python",
   "name": "python",
   "nbconvert_exporter": "python",
   "pygments_lexer": "ipython3",
   "version": "3.5.2"
  }
 },
 "nbformat": 4,
 "nbformat_minor": 2
}
