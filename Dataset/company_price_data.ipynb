{
 "cells": [
  {
   "cell_type": "code",
   "execution_count": 22,
   "metadata": {},
   "outputs": [
    {
     "name": "stdout",
     "output_type": "stream",
     "text": [
      "done\n"
     ]
    }
   ],
   "source": [
    "# notebook to run through Bhavcopy data, and make a csv of list of companies that we are building models for\n",
    "from glob import glob\n",
    "import os\n",
    "\n",
    "\n",
    "companies = [\n",
    "            '533278', # Coal India\n",
    "             '532921', # Adani Ports & SEZ\n",
    "             '500820', # Asian Paints\n",
    "             '532215', # Axis Bank\n",
    "             '532977', # Bajaj Auto\n",
    "             '532454', # Bharti Airtel\n",
    "             '500124', # Dr.Reddy's Labs\n",
    "             '500180', # HDFC Bank\n",
    "             '500182', # Hero Motocorp\n",
    "             '500696', # Hindustan Unilever\n",
    "             '500010', # HDFC\n",
    "             '532174', # ICICI\n",
    "             '532187', # IndusInd Bank\n",
    "             '500209', # Infosys\n",
    "             '500875', # ITC\n",
    "             '500510', # L&T\n",
    "             '500520', # M&M\n",
    "             '532500', # Maruti Suzuki\n",
    "             '532555', # NTPC\n",
    "             '500312', # ONGC\n",
    "            ]\n",
    "print('done')"
   ]
  },
  {
   "cell_type": "code",
   "execution_count": 23,
   "metadata": {},
   "outputs": [
    {
     "name": "stdout",
     "output_type": "stream",
     "text": [
      "['2011-11-28BSE-EQ.txt', '2011-11-29BSE-EQ.txt', '2011-11-30BSE-EQ.txt', '2011-12-01BSE-EQ.txt', '2011-12-02BSE-EQ.txt', '2011-12-05BSE-EQ.txt', '2011-12-07BSE-EQ.txt', '2011-12-08BSE-EQ.txt', '2011-12-09BSE-EQ.txt', '2011-12-12BSE-EQ.txt']\n"
     ]
    }
   ],
   "source": [
    "# getting all the file names, open output csv file\n",
    "inp_file_names = sorted(glob(\"*EQ.txt\"))\n",
    "print(inp_file_names[:10])\n",
    "\n",
    "\n",
    "\n",
    "        "
   ]
  },
  {
   "cell_type": "code",
   "execution_count": 24,
   "metadata": {},
   "outputs": [],
   "source": [
    "company_data = {company_symbol:[] for company_symbol in companies}\n",
    "keys = list(company_data.keys())\n"
   ]
  },
  {
   "cell_type": "code",
   "execution_count": 25,
   "metadata": {
    "scrolled": true
   },
   "outputs": [
    {
     "name": "stdout",
     "output_type": "stream",
     "text": [
      "532215 1490\n",
      "500209 1490\n",
      "500820 1490\n",
      "532174 1490\n",
      "532454 1490\n",
      "500124 1490\n",
      "500696 1490\n",
      "500875 1490\n",
      "500180 1490\n",
      "533278 1490\n",
      "500312 1490\n",
      "532977 1490\n",
      "532187 1490\n",
      "532555 1490\n",
      "500182 1490\n",
      "532500 1490\n",
      "532921 1490\n",
      "500010 1490\n",
      "500510 1490\n",
      "500520 1490\n"
     ]
    }
   ],
   "source": [
    "for ip_fil in inp_file_names:\n",
    "    with open(ip_fil,'r') as fil:\n",
    "        for line in fil:\n",
    "            if line[:6] in keys:\n",
    "                company_data[line[:6]].append(line)\n",
    "\n",
    "for i in keys:\n",
    "    print(i,len(company_data[i]))\n",
    "\n"
   ]
  },
  {
   "cell_type": "code",
   "execution_count": 26,
   "metadata": {},
   "outputs": [],
   "source": [
    "for i in keys:\n",
    "    with open(\"Dataset/\"+i+\".txt\",'w') as fil:\n",
    "        company = company_data[i]\n",
    "        for row in company:\n",
    "            fil.write(row)"
   ]
  }
 ],
 "metadata": {
  "kernelspec": {
   "display_name": "Python 3",
   "language": "python",
   "name": "python3"
  }
 },
 "nbformat": 4,
 "nbformat_minor": 2
}
